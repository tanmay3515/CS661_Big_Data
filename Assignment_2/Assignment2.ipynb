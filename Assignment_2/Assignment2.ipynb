{
 "cells": [
  {
   "cell_type": "code",
   "execution_count": 9,
   "metadata": {
    "id": "aU40XP8hy6tl"
   },
   "outputs": [],
   "source": [
    "!pip install vtk\n",
    "!pip install plotly "
   ]
  },
  {
   "cell_type": "code",
   "execution_count": 10,
   "metadata": {},
   "outputs": [],
   "source": [
    "# Installing the required libraries\n",
    "\n",
    "import plotly.subplots as ps\n",
    "from plotly.subplots import make_subplots\n",
    "import vtk\n",
    "import numpy as np\n",
    "import plotly.graph_objects as go\n",
    "import numpy as np\n",
    "import ipywidgets as widgets\n",
    "from ipywidgets import interact, fixed, FloatSlider, interactive, widgets\n",
    "import matplotlib.pyplot as plt\n",
    "from IPython.display import display, HTML"
   ]
  },
  {
   "cell_type": "code",
   "execution_count": 11,
   "metadata": {},
   "outputs": [],
   "source": [
    "# Reading the vti file\n",
    "\n",
    "reader = vtk.vtkXMLImageDataReader()\n",
    "reader.SetFileName('mixture.vti')\n",
    "reader.Update() # Updating the reader to read the data\n",
    "\n",
    "data = reader.GetOutput() # Getting the output data from the reader\n",
    "# print(data)"
   ]
  },
  {
   "cell_type": "code",
   "execution_count": 12,
   "metadata": {},
   "outputs": [],
   "source": [
    "# Function to convert VTK array to numpy array\n",
    "\n",
    "def makearray(array):\n",
    "    n = array.GetSize()\n",
    "    a = np.zeros(n)\n",
    "    for i in range(n):\n",
    "        a[i] = array.GetTuple1(i)\n",
    "    return a"
   ]
  },
  {
   "cell_type": "code",
   "execution_count": 13,
   "metadata": {},
   "outputs": [],
   "source": [
    "# Getting scalar data from the vtk reader\n",
    "\n",
    "scalar = data.GetPointData().GetScalars()\n",
    "# print(scalar)\n",
    "np_scalar_data = makearray(scalar)\n",
    "# print(np_scalar_data)"
   ]
  },
  {
   "cell_type": "code",
   "execution_count": 14,
   "metadata": {},
   "outputs": [],
   "source": [
    "dimensions = data.GetDimensions()\n",
    "spacing = data.GetSpacing()\n",
    "# Reshaping numpy_scalar_data array to match the dimensions of the data\n",
    "np_scalar_data = np_scalar_data.reshape(dimensions,order='F')"
   ]
  },
  {
   "cell_type": "code",
   "execution_count": 15,
   "metadata": {},
   "outputs": [],
   "source": [
    "# Creating mesh grid for isosurface\n",
    "x, y, z = np.mgrid[:dimensions[0], :dimensions[1], :dimensions[2]]"
   ]
  },
  {
   "cell_type": "code",
   "execution_count": 21,
   "metadata": {},
   "outputs": [
    {
     "data": {
      "application/vnd.jupyter.widget-view+json": {
       "model_id": "2a84eae87cd1444b924828fc8cfedef7",
       "version_major": 2,
       "version_minor": 0
      },
      "text/plain": [
       "VBox(children=(HBox(children=(FloatSlider(value=0.0, continuous_update=False, description='Isovalue', max=0.43…"
      ]
     },
     "metadata": {},
     "output_type": "display_data"
    }
   ],
   "source": [
    "# Creating isosurface plot\n",
    "\n",
    "isosurface = go.Isosurface(\n",
    "    x=x.flatten(),\n",
    "    y=y.flatten(),\n",
    "    z=z.flatten(),\n",
    "    value=np_scalar_data.flatten(),\n",
    "    isomin=0.0,\n",
    "    isomax=0.0,\n",
    "    showscale=False,\n",
    "    colorscale='plasma',\n",
    "    cmin = np_scalar_data.min(),\n",
    "    cmax = np_scalar_data.max(),\n",
    ")\n",
    "layout = go.Layout(\n",
    "    scene=dict(\n",
    "        xaxis=dict(showticklabels=False),\n",
    "        yaxis=dict(showticklabels=False),\n",
    "        zaxis=dict(showticklabels=False), \n",
    "    )\n",
    ")\n",
    "fig2 = go.FigureWidget(data=[isosurface], layout=layout)\n",
    "fig2.update_layout(width=500, height=500)\n",
    "\n",
    "\n",
    "# Calculating histogram data\n",
    "data_array = reader.GetOutput().GetPointData().GetArray(0)\n",
    "num_points = reader.GetOutput().GetNumberOfPoints()\n",
    "values = np.zeros(num_points)\n",
    "for i in range(num_points):\n",
    "    values[i] = data_array.GetValue(i)\n",
    "\n",
    "histogram = np.histogram(values, bins=30)  \n",
    "\n",
    "# Creating histogram plot\n",
    "fig = go.FigureWidget(data=[go.Histogram(x=values, nbinsx=30)])\n",
    "fig.update_layout(\n",
    "    title='Histogram',\n",
    "    xaxis_title='Vortex scalar value',\n",
    "    yaxis_title='Frequency',\n",
    "    width=500,\n",
    "    height=500\n",
    ")\n",
    "\n",
    "\n",
    "# Creating Slider for isosurface\n",
    "slide = widgets.FloatSlider(value=0.0, min=np.min(np_scalar_data), max=np.max(np_scalar_data), step=0.01, description=\"Isovalue\", continuous_update=False)\n",
    "\n",
    "# Creating reset button\n",
    "def reset_button_clicked(b):\n",
    "    fig2.data[0].isomin = 0.0\n",
    "    fig2.data[0].isomax = 0.0\n",
    "    slide.value = 0.0\n",
    "    fig.data[0].x = values\n",
    "\n",
    "def up_surface(isovalue):\n",
    "    fig2.data[0].isomin = isovalue.new\n",
    "    fig2.data[0].isomax = isovalue.new\n",
    "    hist_new_data  = [i for i in values if i>=isovalue.new-0.25 and i<=isovalue.new+0.25 ]\n",
    "    fig.data[0].x = hist_new_data\n",
    "\n",
    "button = widgets.Button(description='Reset')\n",
    "button.on_click(reset_button_clicked)\n",
    "slide.observe(up_surface, names='value')\n",
    "\n",
    "final_fig = widgets.VBox([\n",
    "    widgets.HBox([slide,button]),\n",
    "    widgets.HBox([fig2, fig])]\n",
    ")\n",
    "\n",
    "# Displaying the final image\n",
    "display(final_fig)"
   ]
  },
  {
   "cell_type": "code",
   "execution_count": null,
   "metadata": {},
   "outputs": [],
   "source": []
  }
 ],
 "metadata": {
  "colab": {
   "provenance": []
  },
  "kernelspec": {
   "display_name": "Python 3 (ipykernel)",
   "language": "python",
   "name": "python3"
  },
  "language_info": {
   "codemirror_mode": {
    "name": "ipython",
    "version": 3
   },
   "file_extension": ".py",
   "mimetype": "text/x-python",
   "name": "python",
   "nbconvert_exporter": "python",
   "pygments_lexer": "ipython3",
   "version": "3.11.5"
  }
 },
 "nbformat": 4,
 "nbformat_minor": 1
}
